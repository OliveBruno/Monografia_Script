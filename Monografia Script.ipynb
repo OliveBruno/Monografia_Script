{
 "cells": [
  {
   "cell_type": "markdown",
   "metadata": {},
   "source": [
    "Importing the Libraries"
   ]
  },
  {
   "cell_type": "code",
   "execution_count": null,
   "metadata": {},
   "outputs": [],
   "source": [
    "import numpy as np\n",
    "import pandas as pd\n",
    "import matplotlib.pyplot as plt\n",
    "from pathlib import Path\n",
    "import csv"
   ]
  },
  {
   "cell_type": "markdown",
   "metadata": {},
   "source": [
    "Defining some useful functions"
   ]
  },
  {
   "cell_type": "code",
   "execution_count": null,
   "metadata": {},
   "outputs": [],
   "source": [
    "def get_data_from_csv(filepath):#gets capacitance and frequency data from the csv file\n",
    "    \n",
    "    csv_fixer(filepath)\n",
    "    \n",
    "    new_file_name = filepath.with_name(filepath.stem+\"_fixed.csv\")\n",
    "    \n",
    "    file = pd.read_csv(new_file_name,index_col = 0,header = 2,sep = '\\t')\n",
    "\n",
    "    Cap = file[\"Impedance Imaginary (Ohms)\"]#for some reason all collumns are shifted by one\n",
    "    Freq = file[\"Time\"]                 #so pandas places the capacitance data on the \"Impedance Imaginary (Ohms)\" collumn\n",
    "                                        #and the frequency data on the \"Time\" collumn\n",
    "    return Cap,Freq"
   ]
  },
  {
   "cell_type": "code",
   "execution_count": null,
   "metadata": {},
   "outputs": [],
   "source": [
    "def csv_fixer(filepath,skip_lines=3):#shapes the data from SMART's output into something that can be read using pandas\n",
    "                            #i.e. changes the decimal marker from \",\" to \".\" and separates the names of collumns using tab (\\t)\n",
    "                            #then saves it in a file called \"(file_name)_fixed.csv\"\n",
    "    \n",
    "    text = []\n",
    "    \n",
    "    with open(filepath) as fp:# reads the input file and copies it to the 'text' variable\n",
    "        \n",
    "        for counter in range(skip_lines):#these first few lines are only to ensure the file outputted is the same \n",
    "            line = fp.readline()  #as the original with the exception of our few wanted changes, \n",
    "            text.append(line)       #even though these few lines are useless and will be ignored later.\n",
    "            counter += 1\n",
    "   \n",
    "\n",
    "        line = fp.readline() #changes the collumn name separators\n",
    "        text.append(line.replace(',','\\t'))\n",
    "        \n",
    "        line = fp.readline()\n",
    "        \n",
    "        while line:\n",
    "            \n",
    "            text.append(line.replace(',','.'))#replaces the decimal marker\n",
    "            \n",
    "            line = fp.readline()\n",
    "\n",
    "            \n",
    "    new_file_name = filepath.with_name(filepath.stem+\"_fixed.csv\")\n",
    "    \n",
    "    \n",
    "    with open(new_file_name,'w') as f:#creates the new 'fixed' file\n",
    "    \n",
    "        for phrase in text:\n",
    "            f.write(phrase)\n",
    "    "
   ]
  },
  {
   "cell_type": "markdown",
   "metadata": {},
   "source": [
    "Plots all electrodes individually"
   ]
  },
  {
   "cell_type": "code",
   "execution_count": null,
   "metadata": {},
   "outputs": [],
   "source": [
    "electrodes = [1,2,3,4,5,6]\n",
    "#electrodes = [1,2,3,5]\n",
    "number_of_measurements = 3\n",
    "electrode_date = \"20190926\"\n",
    "working_folder = \"C:/Users\"\n",
    "\n",
    "choose = [\"_\",\"_ar_\",\"_agua_\"]\n",
    "\n",
    "for n in electrodes:\n",
    "    data_folder =  Path(working_folder + \"/\" + electrode_date + \"_\" + str(n) +\"/\")\n",
    "    \n",
    "    for m in range(1,number_of_measurements+1):\n",
    "        \n",
    "        Capacitance, Frequency = get_data_from_csv(data_folder / (electrode_date + \"_\" + str(n) + choose[2] + str(m) + \".csv\")) \n",
    "        \n",
    "        plt.plot(Frequency,Capacitance,\"-o\",label = (\"IDE\"+str(n)+\"_\"+str(m)),markersize = 3)\n",
    "        plt.xlabel(\"Frequência (Hz)\")\n",
    "        plt.ylabel(\"Capacitância (F)\")\n",
    "        plt.legend()\n",
    "        plt.yscale(\"log\")\n",
    "        plt.xscale(\"log\")\n",
    "        plt.savefig(data_folder/(\"IDE\"+str(n)+\".png\"))\n",
    "        #plt.show()\n",
    "    plt.close()"
   ]
  },
  {
   "cell_type": "markdown",
   "metadata": {},
   "source": [
    "Compares all electrodes"
   ]
  },
  {
   "cell_type": "code",
   "execution_count": null,
   "metadata": {},
   "outputs": [],
   "source": [
    "#electrodes = [1,2,3,4,5,6]\n",
    "#number_of_measurements = 3\n",
    "#electrode_date = \"20190926\"\n",
    "#working_folder = \"C:/Users/\"\n",
    "\n",
    "for n in electrodes:\n",
    "    data_folder =  Path(working_folder + \"/\" + electrode_date + \"_\" + str(n) +\"/\")\n",
    "        \n",
    "    Capacitance, Frequency = get_data_from_csv(data_folder / (electrode_date + \"_\" + str(n) + choose[2] + \"1.csv\"))\n",
    "        \n",
    "    plt.plot(Frequency,Capacitance,\"-o\",label = (\"IDE\"+str(n)),markersize = 3)\n",
    "    plt.xlabel(\"Frequência (Hz)\")\n",
    "    plt.ylabel(\"Capacitância (F)\")\n",
    "    plt.legend()\n",
    "    plt.yscale(\"log\")\n",
    "    plt.xscale(\"log\")\n",
    "    plt.savefig(data_folder.with_name(\"IDEs.png\"))\n",
    "    #plt.show()"
   ]
  },
  {
   "cell_type": "code",
   "execution_count": null,
   "metadata": {},
   "outputs": [],
   "source": []
  }
 ],
 "metadata": {
  "kernelspec": {
   "display_name": "Python 3",
   "language": "python",
   "name": "python3"
  },
  "language_info": {
   "codemirror_mode": {
    "name": "ipython",
    "version": 3
   },
   "file_extension": ".py",
   "mimetype": "text/x-python",
   "name": "python",
   "nbconvert_exporter": "python",
   "pygments_lexer": "ipython3",
   "version": "3.7.3"
  }
 },
 "nbformat": 4,
 "nbformat_minor": 2
}
