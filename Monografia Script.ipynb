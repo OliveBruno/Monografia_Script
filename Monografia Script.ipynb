{
 "cells": [
  {
   "cell_type": "markdown",
   "metadata": {},
   "source": [
    "Importing the Libraries"
   ]
  },
  {
   "cell_type": "code",
   "execution_count": null,
   "metadata": {},
   "outputs": [],
   "source": [
    "import numpy as np\n",
    "import pandas as pd\n",
    "import matplotlib.pyplot as plt\n",
    "from pathlib import Path\n",
    "import csv"
   ]
  },
  {
   "cell_type": "markdown",
   "metadata": {},
   "source": [
    "Defining some useful functions"
   ]
  },
  {
   "cell_type": "code",
   "execution_count": null,
   "metadata": {},
   "outputs": [],
   "source": [
    "def get_data_from_csv(filepath):#gets capacitance and frequency data from the csv\n",
    "    \n",
    "    csv_fixer(filepath)\n",
    "    \n",
    "    new_file_name = filepath.with_name(filepath.stem+\"_fixed.csv\")\n",
    "    \n",
    "    file = pd.read_csv(new_file_name,index_col = 0,header = 2,sep = '\\t')\n",
    "\n",
    "    C = file[\"Impedance Imaginary (Ohms)\"]#for some reason all collumns are shifted by one\n",
    "    Freq = file[\"Time\"]                 #so pandas places the capacitance data on the \"Impedance Imaginary (Ohms)\" collumn\n",
    "                                        #and the frequency data on the \"Time\" collumn\n",
    "    return C,Freq"
   ]
  },
  {
   "cell_type": "code",
   "execution_count": null,
   "metadata": {},
   "outputs": [],
   "source": [
    "def csv_fixer(filepath):#shapes the data from SMARTs output into something that can be read using pandas\n",
    "                            #i.e. changes the decimal marker to dot and separates the names of collumns using tab (\\t)\n",
    "                            #then saves it in a file called \"(file_name)_fixed.csv\"\n",
    "    \n",
    "    text = []\n",
    "    \n",
    "    with open(filepath) as fp:# reads the input file and copies it to the 'text' variable\n",
    "        \n",
    "        line = fp.readline()#these first few lines are only to ensure the file outputted is the same \n",
    "        text.append(line)    #as the inputted one except for the few wanted changes, even though these few lines are useless\n",
    "        line = fp.readline() #and will be ignored later\n",
    "        text.append(line)\n",
    "        line = fp.readline()\n",
    "        text.append(line)\n",
    "        line = fp.readline()\n",
    "        text.append(line.replace(',','\\t'))\n",
    "        \n",
    "        line = fp.readline()\n",
    "        \n",
    "        while line:\n",
    "            \n",
    "            text.append(line.replace(',','.'))\n",
    "            \n",
    "            line = fp.readline()\n",
    "\n",
    "    new_file_name = filepath.with_name(filepath.stem+\"_fixed.csv\")\n",
    "    \n",
    "    f = open(new_file_name,'w') #creates the new 'fixed' file\n",
    "    \n",
    "    for phrase in text:\n",
    "        f.write(phrase)\n",
    "    \n",
    "    f.close()"
   ]
  },
  {
   "cell_type": "markdown",
   "metadata": {},
   "source": [
    "Electrode 20190926_1 ###############################"
   ]
  },
  {
   "cell_type": "markdown",
   "metadata": {},
   "source": [
    "Getting the database"
   ]
  },
  {
   "cell_type": "code",
   "execution_count": null,
   "metadata": {},
   "outputs": [],
   "source": [
    "data_folder1 = Path(\"20190926_1/\")\n",
    "\n",
    "E11,freq = get_data_from_csv(data_folder1 / \"20190926_1_ar_1.csv\")\n",
    "E12,freq2 = get_data_from_csv(data_folder1 / \"20190926_1_ar_2.csv\")\n",
    "E13,freq3 = get_data_from_csv(data_folder1 / \"20190926_1_ar_3.csv\")"
   ]
  },
  {
   "cell_type": "markdown",
   "metadata": {},
   "source": [
    "Checking consistency"
   ]
  },
  {
   "cell_type": "code",
   "execution_count": null,
   "metadata": {
    "scrolled": true
   },
   "outputs": [],
   "source": [
    "plt.plot(freq,E11,label = \"IDE1_1\")\n",
    "plt.plot(freq2,E12,label = \"IDE1_2\")\n",
    "plt.plot(freq3,E13,label = \"IDE1_3\")\n",
    "#plt.title(\"Capacitância Real (F) em função da Frequência (Hz)\")\n",
    "plt.xlabel(\"Frequência (Hz)\")\n",
    "plt.ylabel(\"Capacitância (F)\")\n",
    "plt.legend()\n",
    "plt.xscale(\"log\")\n",
    "plt.savefig(data_folder1 / \"IDE1_Filme_ar.png\")\n",
    "plt.show()"
   ]
  },
  {
   "cell_type": "markdown",
   "metadata": {},
   "source": [
    "Electrode 20190926_2 ###############################"
   ]
  },
  {
   "cell_type": "markdown",
   "metadata": {},
   "source": [
    "Getting the database"
   ]
  },
  {
   "cell_type": "code",
   "execution_count": null,
   "metadata": {},
   "outputs": [],
   "source": [
    "data_folder2 = Path(\"20190926_2/\")\n",
    "\n",
    "E21,freq1 = get_data_from_csv(data_folder2 / \"20190926_2_ar_1.csv\")\n",
    "E22,freq2 = get_data_from_csv(data_folder2 / \"20190926_2_ar_2.csv\")\n",
    "E23,freq3 = get_data_from_csv(data_folder2 / \"20190926_2_ar_3.csv\")"
   ]
  },
  {
   "cell_type": "markdown",
   "metadata": {},
   "source": [
    "Checking consistency"
   ]
  },
  {
   "cell_type": "code",
   "execution_count": null,
   "metadata": {
    "scrolled": true
   },
   "outputs": [],
   "source": [
    "plt.plot(freq1,E21,label = \"IDE2_1\")\n",
    "plt.plot(freq2,E22,label = \"IDE2_2\")\n",
    "plt.plot(freq3,E23,label = \"IDE2_3\")\n",
    "#plt.title(\"Capacitância Real (F) em função da Frequência (Hz)\")\n",
    "plt.xlabel(\"Frequência (Hz)\")\n",
    "plt.ylabel(\"Capacitância (F)\")\n",
    "plt.legend()\n",
    "plt.xscale(\"log\")\n",
    "plt.savefig(data_folder2 / \"IDE2_Filme_ar.png\")\n",
    "plt.show()"
   ]
  },
  {
   "cell_type": "markdown",
   "metadata": {},
   "source": [
    "Electrode 20190926_3 ###############################"
   ]
  },
  {
   "cell_type": "markdown",
   "metadata": {},
   "source": [
    "Getting the database"
   ]
  },
  {
   "cell_type": "code",
   "execution_count": null,
   "metadata": {},
   "outputs": [],
   "source": [
    "data_folder3 = Path(\"20190926_3/\")\n",
    "\n",
    "E31,freq1 = get_data_from_csv(data_folder3 / \"20190926_3_ar_1.csv\")\n",
    "E32,freq2 = get_data_from_csv(data_folder3 / \"20190926_3_ar_2.csv\")\n",
    "E33,freq3 = get_data_from_csv(data_folder3 / \"20190926_3_ar_3.csv\")"
   ]
  },
  {
   "cell_type": "markdown",
   "metadata": {},
   "source": [
    "Checking consistency"
   ]
  },
  {
   "cell_type": "code",
   "execution_count": null,
   "metadata": {
    "scrolled": true
   },
   "outputs": [],
   "source": [
    "plt.plot(freq1,E31,label = \"IDE3_1\")\n",
    "plt.plot(freq2,E32,label = \"IDE3_2\")\n",
    "plt.plot(freq3,E33,label = \"IDE3_3\")\n",
    "#plt.title(\"Capacitância Real (F) em função da Frequência (Hz)\")\n",
    "plt.xlabel(\"Frequência (Hz)\")\n",
    "plt.ylabel(\"Capacitância (F)\")\n",
    "plt.legend()\n",
    "plt.xscale(\"log\")\n",
    "plt.savefig(data_folder3 / \"IDE3_Filme_ar.png\")\n",
    "plt.show()"
   ]
  },
  {
   "cell_type": "markdown",
   "metadata": {},
   "source": [
    "Electrode 20190926_5 ###############################"
   ]
  },
  {
   "cell_type": "markdown",
   "metadata": {},
   "source": [
    "Getting the database"
   ]
  },
  {
   "cell_type": "code",
   "execution_count": null,
   "metadata": {},
   "outputs": [],
   "source": [
    "data_folder5 = Path(\"20190926_5/\")\n",
    "\n",
    "E51,freq1 = get_data_from_csv(data_folder5 / \"20190926_5_ar_1.csv\")\n",
    "E52,freq2 = get_data_from_csv(data_folder5 / \"20190926_5_ar_2.csv\")\n",
    "E53,freq3 = get_data_from_csv(data_folder5 / \"20190926_5_ar_3.csv\")"
   ]
  },
  {
   "cell_type": "markdown",
   "metadata": {},
   "source": [
    "Checking consistency"
   ]
  },
  {
   "cell_type": "code",
   "execution_count": null,
   "metadata": {
    "scrolled": false
   },
   "outputs": [],
   "source": [
    "plt.plot(freq1,E51,label = \"IDE5_1\")\n",
    "plt.plot(freq2,E52,label = \"IDE5_2\")\n",
    "plt.plot(freq3,E53,label = \"IDE5_3\")\n",
    "#plt.title(\"Capacitância Real (F) em função da Frequência (Hz)\")\n",
    "plt.xlabel(\"Frequência (Hz)\")\n",
    "plt.ylabel(\"Capacitância (F)\")\n",
    "plt.legend()\n",
    "plt.xscale(\"log\")\n",
    "plt.savefig(data_folder5 / \"IDE5_Filme_ar.png\")\n",
    "plt.show()"
   ]
  },
  {
   "cell_type": "markdown",
   "metadata": {},
   "source": [
    "Comparing all electrodes"
   ]
  },
  {
   "cell_type": "code",
   "execution_count": null,
   "metadata": {
    "scrolled": true
   },
   "outputs": [],
   "source": [
    "plt.plot(freq,E11,label = \"IDE1\")\n",
    "plt.plot(freq,E21,label = \"IDE2\")\n",
    "plt.plot(freq,E31,label = \"IDE3\")\n",
    "#plt.plot(freq,E41,label = \"IDE4\")\n",
    "plt.plot(freq,E51,label = \"IDE5\")\n",
    "#plt.plot(freq,E61,label = \"IDE6\")\n",
    "#plt.title(\"Capacitância Real (F) em função da Frequência (Hz)\")\n",
    "plt.xlabel(\"Frequência (Hz)\")\n",
    "plt.ylabel(\"Capacitância (F)\")\n",
    "plt.legend()\n",
    "plt.xscale(\"log\")\n",
    "plt.savefig(data_folder1.cwd() / \"IDEs_com_Filme_em_ar.png\")\n",
    "plt.show()"
   ]
  },
  {
   "cell_type": "code",
   "execution_count": null,
   "metadata": {},
   "outputs": [],
   "source": []
  }
 ],
 "metadata": {
  "kernelspec": {
   "display_name": "Python 3",
   "language": "python",
   "name": "python3"
  },
  "language_info": {
   "codemirror_mode": {
    "name": "ipython",
    "version": 3
   },
   "file_extension": ".py",
   "mimetype": "text/x-python",
   "name": "python",
   "nbconvert_exporter": "python",
   "pygments_lexer": "ipython3",
   "version": "3.7.3"
  }
 },
 "nbformat": 4,
 "nbformat_minor": 2
}
