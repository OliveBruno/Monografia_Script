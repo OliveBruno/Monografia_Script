{
 "cells": [
  {
   "cell_type": "markdown",
   "metadata": {},
   "source": [
    "#### Importing the Libraries"
   ]
  },
  {
   "cell_type": "code",
   "execution_count": 1,
   "metadata": {},
   "outputs": [
    {
     "data": {
      "text/plain": [
       "''"
      ]
     },
     "execution_count": 1,
     "metadata": {},
     "output_type": "execute_result"
    }
   ],
   "source": [
    "import os\n",
    "import numpy as np\n",
    "import pandas as pd\n",
    "import matplotlib.pyplot as plt\n",
    "from pathlib import Path\n",
    "import csv\n",
    "import tkinter as tk\n",
    "from tkinter import filedialog\n",
    "\n",
    "root = tk.Tk()\n",
    "root.withdraw()"
   ]
  },
  {
   "cell_type": "markdown",
   "metadata": {},
   "source": [
    "#### Defining some useful functions"
   ]
  },
  {
   "cell_type": "code",
   "execution_count": 2,
   "metadata": {},
   "outputs": [],
   "source": [
    "def get_data_from_csv(filepath):#gets capacitance and frequency data from the csv file\n",
    "    \n",
    "    csv_fixer(filepath)\n",
    "    \n",
    "    new_file_name = filepath.with_name(filepath.stem+\"_fixed.csv\")\n",
    "    \n",
    "    file = pd.read_csv(new_file_name,index_col = 0,header = 2,sep = '\\t')\n",
    "        \n",
    "    Cap_list = []#list of capacitance data for each loop\n",
    "    Freq_list = []#list of frequency data for each loop\n",
    "        \n",
    "    Sweep = file[\"Result Number\"]\n",
    "    Cap = file[\"Impedance Imaginary (Ohms)\"]#for some reason all collumns are shifted by one\n",
    "    Freq = file[\"Time\"]                 #so pandas places the capacitance data on the \"Impedance Imaginary (Ohms)\" collumn\n",
    "                                            #and the frequency data on the \"Time\" collumn\n",
    "    \n",
    "    number_of_sweeps = int(Sweep[len(Sweep)-1])\n",
    "    \n",
    "    for l in range(number_of_sweeps):\n",
    "        Cap_list.append(Cap[Sweep == l+1])\n",
    "        Freq_list.append(Freq[Sweep == l+1])\n",
    "            \n",
    "    return Cap_list,Freq_list,number_of_sweeps\n",
    "\n",
    "def csv_fixer(filepath,skip_lines=3):#shapes the data from SMART's output into something that can be read using pandas\n",
    "                            #i.e. changes the decimal marker from \",\" to \".\" and separates the names of collumns using tab (\\t)\n",
    "                            #then saves it in a file called \"(file_name)_fixed.csv\"\n",
    "    \n",
    "    text = []\n",
    "    \n",
    "    with open(filepath) as fp:# reads the input file and copies it to the 'text' variable\n",
    "        \n",
    "        for counter in range(skip_lines):#these first few lines are only to ensure the file outputted is the same \n",
    "            line = fp.readline()  #as the original with the exception of our few wanted changes, \n",
    "            text.append(line)       #even though these few lines are useless and will be ignored later.\n",
    "            counter += 1\n",
    "   \n",
    "\n",
    "        line = fp.readline() #changes the collumn name separators\n",
    "        text.append(line.replace(',','\\t'))\n",
    "        \n",
    "        line = fp.readline()\n",
    "        \n",
    "        while line:\n",
    "            \n",
    "            text.append(line.replace(',','.'))#replaces the decimal marker\n",
    "            \n",
    "            line = fp.readline()\n",
    "\n",
    "            \n",
    "    new_file_name = filepath.with_name(filepath.stem+\"_fixed.csv\")\n",
    "    \n",
    "    \n",
    "    with open(new_file_name,'w') as f:#creates the new 'fixed' file\n",
    "    \n",
    "        for phrase in text:\n",
    "            f.write(phrase)\n",
    "    "
   ]
  },
  {
   "cell_type": "markdown",
   "metadata": {},
   "source": [
    "#### ANY FIGURES GENERATED FROM THIS SCRIPT ARE SAVED ON A FOLDER CALLED \"Monograph_Script_Images\" ####\n",
    "#### CREATED ON THE SAME FOLDER WHERE THIS NOTEBOOK IS RUNNING IN. ####"
   ]
  },
  {
   "cell_type": "code",
   "execution_count": 3,
   "metadata": {},
   "outputs": [],
   "source": [
    "#if all files are on the same folder you can just keep number_of_files as 0 and use multi-selection on the pop up window\n",
    "#if not you have to manually set how many files you are going to open\n",
    "\n",
    "number_of_files = 6\n",
    "meio = \"ar\"\n",
    "\n",
    "figure_name = \"IDEs sem filme no ar\".replace(\" \",\"_\")\n",
    "img_size = 150 #changes the \"dpi\" option on the plot, i put it here so its more organized "
   ]
  },
  {
   "cell_type": "markdown",
   "metadata": {},
   "source": [
    "#### THIS IS WHERE YOU CHANGE THE LABELS"
   ]
  },
  {
   "cell_type": "code",
   "execution_count": 4,
   "metadata": {},
   "outputs": [],
   "source": [
    "def condition_labelling(sweep=0,file_number=0):# sets the label of a curve according to the sweep number and the file number\n",
    "                                        #returns a string and should be edited when needed.  \n",
    "    \n",
    "    sweep += 1 #accounts for sweep starting at 0 and going to total_number_of_sweeps - 1 and same for file_number\n",
    "    file_number += 1\n",
    "    \n",
    "    return \"IDE\"+str(file_number)"
   ]
  },
  {
   "cell_type": "markdown",
   "metadata": {},
   "source": [
    "#### THIS SETS CONDITIONS TO EXCLUDE SPECIFIC SWEEPS FROM SPECIFIC FILES "
   ]
  },
  {
   "cell_type": "code",
   "execution_count": 5,
   "metadata": {},
   "outputs": [],
   "source": [
    "def condition_exclusion(sweep=0,file_number=0):#sets a condition to not show specific curves when plotting them,\n",
    "                                            #you may choose to block certain sweeps from a file or even all curves from a file\n",
    "                                        #this function returns either True or False (1 or 0) and should be edited when needed.\n",
    "    \n",
    "    sweep += 1 #accounts for sweep starting at 0 and going to total_number_of_sweeps - 1 and same for file_number\n",
    "    file_number += 1\n",
    "    \n",
    "    return True"
   ]
  },
  {
   "cell_type": "markdown",
   "metadata": {},
   "source": [
    "#### THEIS BLOCK HANDLES THE FILE ACQUISITION AND FIGURE SAVING SETTINGS ####"
   ]
  },
  {
   "cell_type": "code",
   "execution_count": 6,
   "metadata": {},
   "outputs": [],
   "source": [
    "data_files = []\n",
    "\n",
    "if(number_of_files != 0):\n",
    "    \n",
    "    for i in range(number_of_files):#opens the files and gets their addresses\n",
    "        data_files.append(Path(filedialog.askopenfilename()))\n",
    "        \n",
    "else:\n",
    "    \n",
    "    data_files_pre = list(filedialog.askopenfilenames())\n",
    "\n",
    "    for x in data_files_pre:\n",
    "        data_files.append(Path(x))\n",
    "\n",
    "    number_of_files = len(data_files)\n",
    "    \n",
    "default_folder = \"Monograph_Script_Images\" \n",
    "\n",
    "if(not os.path.exists(default_folder)):\n",
    "    os.makedirs(default_folder)\n",
    "\n",
    "    \n",
    "save_folder = Path(os.getcwd()+\"/\"+default_folder)"
   ]
  },
  {
   "cell_type": "markdown",
   "metadata": {},
   "source": [
    "##### EVERY VARIABLE AND CONDITION SHOULD BE SET BEFORE THIS LINE !!! ####\n",
    "##### AFTER THIS LINE YOU SHOULD ONLY CHANGE PLOT SETTINGS SUCH AS X AND Y SCALES AND LIMITS ####"
   ]
  },
  {
   "cell_type": "code",
   "execution_count": 8,
   "metadata": {},
   "outputs": [
    {
     "data": {
      "image/png": "[encoded data removed]",
      "text/plain": [
       "<Figure size 432x288 with 1 Axes>"
      ]
     },
     "metadata": {
      "needs_background": "light"
     },
     "output_type": "display_data"
    }
   ],
   "source": [
    "for file_number in range(number_of_files):\n",
    "\n",
    "    file = data_files[file_number]#this file_number can be used to name the electrodes later, so if in each file \n",
    "                                #you have a different electrode just use this \"file_number\" variable to set the label properly\n",
    "        \n",
    "    Capacitance, Frequency, number_of_sweeps = get_data_from_csv(file)\n",
    "    \n",
    "    \n",
    "    if(meio == \"ar\"):\n",
    "\n",
    "        for sweep in range(number_of_sweeps):\n",
    "            if(condition_exclusion(sweep,file_number)):\n",
    "                plt.plot(\n",
    "                        Frequency[sweep],\n",
    "                         (10**12)*Capacitance[sweep],\n",
    "                         \"-o\",\n",
    "                         markersize = 3\n",
    "                         ,label = condition_labelling(sweep,file_number)\n",
    "                        )\n",
    "                \n",
    "                plt.xlabel(\"Frequência (Hz)\")\n",
    "                plt.ylabel(\"Capacitância (pF)\")\n",
    "                plt.legend(loc = \"upper right\")\n",
    "                #plt.xlim([1,10**3])\n",
    "                #plt.xlim([10**3,10**6])\n",
    "                #plt.ylim([7,8.5])\n",
    "                #plt.yscale(\"log\")\n",
    "                plt.xscale(\"log\")\n",
    "                plt.savefig(save_folder/(figure_name+\".png\"),dpi=img_size)\n",
    "                \n",
    "    elif(meio == \"agua\"):\n",
    "        \n",
    "        for sweep in range(number_of_sweeps):\n",
    "            if(condition_exclusion(sweep,file_number)):\n",
    "                plt.plot(\n",
    "                        Frequency[sweep],\n",
    "                         Capacitance[sweep],\n",
    "                         \"-o\",\n",
    "                         markersize = 3,\n",
    "                         label = condition_labelling(sweep,file_number)\n",
    "                        )\n",
    "                \n",
    "                plt.xlabel(\"Frequência (Hz)\")\n",
    "                plt.ylabel(\"Capacitância (F)\")\n",
    "                plt.legend(loc = \"upper right\")\n",
    "                #plt.xlim([1,10**3])\n",
    "                #plt.xlim([10**3,10**6])\n",
    "                #plt.ylim([7,8.5])\n",
    "                plt.yscale(\"log\")\n",
    "                plt.xscale(\"log\")\n",
    "                plt.savefig(save_folder/(figure_name+\".png\"),dpi=img_size)\n",
    "        "
   ]
  },
  {
   "cell_type": "code",
   "execution_count": null,
   "metadata": {},
   "outputs": [],
   "source": []
  }
 ],
 "metadata": {
  "kernelspec": {
   "display_name": "Python 3",
   "language": "python",
   "name": "python3"
  },
  "language_info": {
   "codemirror_mode": {
    "name": "ipython",
    "version": 3
   },
   "file_extension": ".py",
   "mimetype": "text/x-python",
   "name": "python",
   "nbconvert_exporter": "python",
   "pygments_lexer": "ipython3",
   "version": "3.7.3"
  }
 },
 "nbformat": 4,
 "nbformat_minor": 2
}
