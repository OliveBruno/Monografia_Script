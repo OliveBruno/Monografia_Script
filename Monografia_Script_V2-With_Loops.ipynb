{
 "cells": [
  {
   "cell_type": "markdown",
   "metadata": {},
   "source": [
    "#### Importing the Libraries"
   ]
  },
  {
   "cell_type": "code",
   "execution_count": 1,
   "metadata": {},
   "outputs": [],
   "source": [
    "import os\n",
    "import numpy as np\n",
    "import pandas as pd\n",
    "import matplotlib.pyplot as plt\n",
    "from pathlib import Path\n",
    "import csv\n",
    "import tkinter as tk\n",
    "from tkinter import filedialog\n",
    "\n",
    "root = tk.Tk()\n",
    "root.withdraw()\n",
    "\n",
    "\n",
    "#### Defining a few useful functions #####\n",
    "\n",
    "\n",
    "def get_data_from_csv(filepath):#gets capacitance and frequency data from the csv file\n",
    "    \n",
    "    csv_fixer(filepath)\n",
    "    \n",
    "    new_file_name = filepath.with_name(filepath.stem+\"_fixed.csv\")\n",
    "    \n",
    "    file = pd.read_csv(new_file_name,index_col = 0,header = 2,sep = '\\t')\n",
    "        \n",
    "    Cap_list = []#list of capacitance data for each loop\n",
    "    Freq_list = []#list of frequency data for each loop\n",
    "        \n",
    "    Sweep = file[\"Result Number\"]\n",
    "    Cap = file[\"Impedance Imaginary (Ohms)\"]#for some reason all collumns are shifted by one\n",
    "    Freq = file[\"Time\"]                 #so pandas places the capacitance data on the \"Impedance Imaginary (Ohms)\" collumn\n",
    "                                            #and the frequency data on the \"Time\" collumn\n",
    "    \n",
    "    number_of_sweeps = int(Sweep[len(Sweep)-1])\n",
    "    \n",
    "    for l in range(number_of_sweeps):\n",
    "        Cap_list.append(Cap[Sweep == l+1])\n",
    "        Freq_list.append(Freq[Sweep == l+1])\n",
    "        \n",
    "    os.remove(new_file_name)#deletes the \"fixed\" file after it's done\n",
    "            \n",
    "    return Cap_list,Freq_list,number_of_sweeps\n",
    "\n",
    "\n",
    "\n",
    "def csv_fixer(filepath,skip_lines=3):#shapes the data from SMART's output into something that can be read using pandas\n",
    "                            #i.e. changes the decimal marker from \",\" to \".\" and separates the names of collumns using tab (\\t)\n",
    "                            #then saves it in a file called \"(file_name)_fixed.csv\"\n",
    "    \n",
    "    text = []\n",
    "    \n",
    "    with open(filepath) as fp:# reads the input file and copies it to the 'text' variable\n",
    "        \n",
    "        for counter in range(skip_lines):#these first few lines are only to ensure the file outputted is the same \n",
    "            line = fp.readline()  #as the original with the exception of our few wanted changes, \n",
    "            text.append(line)       #even though these few lines are useless and will be ignored later.\n",
    "            counter += 1\n",
    "   \n",
    "\n",
    "        line = fp.readline() #changes the collumn name separators\n",
    "        text.append(line.replace(',','\\t'))\n",
    "        \n",
    "        line = fp.readline()\n",
    "        \n",
    "        while line:\n",
    "            \n",
    "            text.append(line.replace(',','.'))#replaces the decimal marker\n",
    "            \n",
    "            line = fp.readline()\n",
    "\n",
    "            \n",
    "    new_file_name = filepath.with_name(filepath.stem+\"_fixed.csv\")\n",
    "    \n",
    "    \n",
    "    with open(new_file_name,'w') as f:#creates the new 'fixed' file\n",
    "    \n",
    "        for phrase in text:\n",
    "            f.write(phrase)\n",
    "    \n",
    "    \n",
    "def list_creator(start=1,end=1,step=1): #a more intuitive version of np.arange\n",
    "    return np.arange(start-1,end,step) #the default return is np.array([0])\n",
    "    "
   ]
  },
  {
   "cell_type": "markdown",
   "metadata": {},
   "source": [
    "#### THIS BLOCK HANDLES THE FILE ACQUISITION ####"
   ]
  },
  {
   "cell_type": "code",
   "execution_count": 2,
   "metadata": {},
   "outputs": [],
   "source": [
    "#if all files are on the same folder you can just keep number_of_files as 0 and use multi-selection on the pop up window\n",
    "#if not you have to manually set how many files you are going to open\n",
    "\n",
    "number_of_files = 1\n",
    "\n",
    "data_files = []\n",
    "\n",
    "    \n",
    "for i in range(number_of_files):#opens the files and gets their addresses\n",
    "        \n",
    "    data_files_pre = list(filedialog.askopenfilenames())\n",
    "\n",
    "    for x in data_files_pre:\n",
    "        data_files.append(Path(x))\n",
    "        \n",
    "    if(len(data_files) >= number_of_files):\n",
    "        break \n",
    "\n",
    "number_of_files = len(data_files)\n",
    "\n",
    "\n",
    "\n",
    "## THIS USED TO BE USEFUL... NOW I JUST DONT WANNA THROW IT AWAY ><   \n",
    "    \n",
    "#default_folder = \"Monograph_Script_Images\"\n",
    "\n",
    "#if(not os.path.exists(default_folder)):\n",
    "#    os.makedirs(default_folder)\n",
    "\n",
    "    \n",
    "#save_folder = Path(os.getcwd()+\"/\"+default_folder)"
   ]
  },
  {
   "cell_type": "markdown",
   "metadata": {},
   "source": [
    "#### THIS SETS CONDITIONS TO EXCLUDE SPECIFIC SWEEPS FROM SPECIFIC FILES "
   ]
  },
  {
   "cell_type": "code",
   "execution_count": 3,
   "metadata": {},
   "outputs": [],
   "source": [
    "def sweep_list(total_number_of_sweeps=0,file_number=0):#this function returns a list with the sweeps you want for \n",
    "                                       #each file_number and should be edited when needed\n",
    "    \n",
    "    file_number += 1 #accounts for file_number starting at 0 and going to total_number_of_files - 1\n",
    "    \n",
    "    ####it is easier if you use the functions list_creator and np.concatenate for this ####\n",
    "    \n",
    "    ###### code starts here ####\n",
    "    \n",
    "    #if(file_number == 3):\n",
    "    #    return list_creator(40,total_number_of_sweeps,2)\n",
    "    \n",
    "    return np.concatenate((list_creator(1,1,1),list_creator(20,180,20)))\n",
    "\n",
    "    \n",
    "    #return np.arange(0,total_number_of_sweeps,8)"
   ]
  },
  {
   "cell_type": "markdown",
   "metadata": {},
   "source": [
    "#### THIS IS WHERE YOU CHANGE THE LABELS FOR EACH CURVE ON YOUR PLOT"
   ]
  },
  {
   "cell_type": "code",
   "execution_count": 4,
   "metadata": {},
   "outputs": [],
   "source": [
    "def condition_labelling(sweep=0,file_number=0):# sets the label of a curve according to the sweep number and the file number\n",
    "                                        #returns a string and should be edited when needed.  \n",
    "    \n",
    "    sweep += 1 #accounts for sweep starting at 0 and going to total_number_of_sweeps - 1 and same for file_number\n",
    "    file_number += 1\n",
    "    \n",
    "    #if(file_number == 1):\n",
    "    #    return \"IDE1 Bare\"\n",
    "    #elif(file_number == 2):\n",
    "    #    return \"IDE1 Filme\"\n",
    "    \n",
    "    return (\"Varredura \"+str(sweep))"
   ]
  },
  {
   "cell_type": "markdown",
   "metadata": {},
   "source": [
    "##### AFTER THIS LINE YOU SHOULD ONLY CHANGE PLOT SETTINGS SUCH AS X/Y SCALES AND LIMITS ####"
   ]
  },
  {
   "cell_type": "code",
   "execution_count": 6,
   "metadata": {},
   "outputs": [
    {
     "name": "stdout",
     "output_type": "stream",
     "text": [
      "save figure (y/n)?\n",
      "n\n"
     ]
    },
    {
     "data": {
      "image/png": "[encoded data removed]",
      "text/plain": [
       "<Figure size 432x288 with 1 Axes>"
      ]
     },
     "metadata": {
      "needs_background": "light"
     },
     "output_type": "display_data"
    }
   ],
   "source": [
    "#defining a few parameters here\n",
    "\n",
    "img_size = 150\n",
    "font_size = 13\n",
    "font_axis_ticks = 12\n",
    "number_of_label_columns = 2\n",
    "meio = \"ar\"\n",
    "\n",
    "for file_number in range(number_of_files):\n",
    "\n",
    "    file = data_files[file_number]#this file_number can be used to name the electrodes later, so if in each file \n",
    "                                #you have a different electrode just use this \"file_number\" variable to set the label properly\n",
    "    \n",
    "\n",
    "    \n",
    "    Capacitance, Frequency, number_of_sweeps = get_data_from_csv(file)\n",
    "    \n",
    "\n",
    "    \n",
    "    if(meio == \"ar\"):\n",
    "\n",
    "        for sweep in sweep_list(number_of_sweeps,file_number):\n",
    "            \n",
    "            plt.plot(\n",
    "                    Frequency[sweep],\n",
    "                     (10**12)*Capacitance[sweep],\n",
    "                     \"-o\",\n",
    "                     markersize = 3,\n",
    "                     label = condition_labelling(sweep,file_number)\n",
    "                     )\n",
    "                \n",
    "            plt.xlabel(\"Frequência (Hz)\",fontsize=font_size)\n",
    "            plt.ylabel(\"Capacitância Real (pF)\",fontsize=font_size)\n",
    "            plt.legend(loc = \"upper right\",ncol = number_of_label_columns)\n",
    "            plt.yticks(fontsize=font_axis_ticks)\n",
    "            plt.xticks(fontsize=font_axis_ticks)\n",
    "            #plt.xlim([1,10**3])\n",
    "            #plt.xlim([10**3,10**6])\n",
    "            #plt.ylim([7,8.5])\n",
    "            #plt.yscale(\"log\")\n",
    "            plt.xscale(\"log\")\n",
    "                \n",
    "    elif(meio == \"agua\"):\n",
    "        \n",
    "        for sweep in sweep_list(number_of_sweeps,file_number):\n",
    "            \n",
    "            plt.plot(\n",
    "                    Frequency[sweep],\n",
    "                    Capacitance[sweep],\n",
    "                    \"-o\",\n",
    "                    markersize = 3,\n",
    "                    label = condition_labelling(sweep,file_number)\n",
    "                    )\n",
    "                \n",
    "            plt.xlabel(\"Frequência (Hz)\",fontsize=font_size)\n",
    "            plt.ylabel(\"Capacitância Real (F)\",fontsize=font_size)\n",
    "            plt.legend(loc = \"upper right\",ncol = number_of_label_columns)\n",
    "            plt.yticks(fontsize=font_axis_ticks)\n",
    "            plt.xticks(fontsize=font_axis_ticks)\n",
    "            #plt.xlim([1,10**3])\n",
    "            #plt.xlim([10**3,10**6])\n",
    "            #plt.ylim([7,8.5])\n",
    "            plt.yscale(\"log\")\n",
    "            plt.xscale(\"log\")\n",
    "\n",
    "\n",
    "#saving the figure\n",
    "\n",
    "answer = str(input(\"save figure (y/n)?\\n\"))\n",
    "\n",
    "if(answer == \"yes\" or answer == 'y' or answer == \"sim\" or answer == 's'):\n",
    "    save_folder = Path(filedialog.asksaveasfilename(filetypes = ((\"png files\",\"*.png\"),(\"jpeg files\",\"*.jpg\"),(\"all files\",\"*.*\"))).replace(\" \",\"_\"))\n",
    "    plt.savefig(save_folder,dpi=img_size)\n",
    "\n",
    "plt.show()"
   ]
  },
  {
   "cell_type": "markdown",
   "metadata": {},
   "source": [
    "#### open the folder where the image was saved directly from jupyter"
   ]
  },
  {
   "cell_type": "code",
   "execution_count": null,
   "metadata": {},
   "outputs": [],
   "source": [
    "path = save_folder\n",
    "#path = save_folder.parent\n",
    "path = os.path.realpath(path)\n",
    "os.startfile(path)"
   ]
  },
  {
   "cell_type": "markdown",
   "metadata": {},
   "source": [
    "#### NOW PLOTTING CAPACITANCE (ON A FIXED FREQUENCY) OVER TIME"
   ]
  },
  {
   "cell_type": "code",
   "execution_count": null,
   "metadata": {},
   "outputs": [],
   "source": [
    "fixed_freq = 10**3\n",
    "\n",
    "#### code starts here ####\n",
    "\n",
    "CapkHz = []\n",
    "\n",
    "Capacitance, Frequency, number_of_sweeps = get_data_from_csv(Path(filedialog.askopenfilename()))\n",
    "\n",
    "if(number_of_sweeps > 1):\n",
    "    for sweep in range(number_of_sweeps):\n",
    "        f = Frequency[sweep].values.tolist()#the price you pay for using pandas....\n",
    "        idx = f.index(float(fixed_freq))\n",
    "        cap = Capacitance[sweep].values.tolist()[idx]\n",
    "        CapkHz.append(cap)"
   ]
  },
  {
   "cell_type": "code",
   "execution_count": null,
   "metadata": {},
   "outputs": [],
   "source": [
    "for i in range(len(CapkHz)):\n",
    "    CapkHz[i] *= 10**12"
   ]
  },
  {
   "cell_type": "code",
   "execution_count": null,
   "metadata": {},
   "outputs": [],
   "source": [
    "#plotting preferences go here\n",
    "\n",
    "measurement_time = 4.8 #minutes \n",
    "\n",
    "time = np.arange(0,measurement_time*len(CapkHz),measurement_time)\n",
    "plt.plot(time,CapkHz,\"-o\",markersize = 3)\n",
    "plt.yticks(fontsize=12)\n",
    "plt.xticks(fontsize=12)\n",
    "plt.ylabel(\"Capacitância Real em 1kHz (pF)\",fontsize=12)\n",
    "plt.xlabel(\"Tempo (Minutos)\",fontsize=12)\n",
    "#plt.yscale(\"log\")\n",
    "#plt.xscale(\"log\")\n",
    "\n",
    "#saving the figure\n",
    "\n",
    "answer = str(input(\"save figure ?\"))\n",
    "\n",
    "if(answer == \"yes\" or answer == 'y' ):\n",
    "    save_folder = Path(filedialog.asksaveasfilename(filetypes = ((\"png files\",\"*.png\"),(\"jpeg files\",\"*.jpg\"),(\"all files\",\"*.*\"))).replace(\" \",\"_\"))\n",
    "    plt.savefig(save_folder,dpi=150)\n",
    "    \n",
    "plt.show()"
   ]
  },
  {
   "cell_type": "code",
   "execution_count": null,
   "metadata": {},
   "outputs": [],
   "source": [
    "path = save_folder.parent\n",
    "path = os.path.realpath(path)\n",
    "os.startfile(path)"
   ]
  },
  {
   "cell_type": "code",
   "execution_count": null,
   "metadata": {},
   "outputs": [],
   "source": []
  }
 ],
 "metadata": {
  "kernelspec": {
   "display_name": "Python 3",
   "language": "python",
   "name": "python3"
  },
  "language_info": {
   "codemirror_mode": {
    "name": "ipython",
    "version": 3
   },
   "file_extension": ".py",
   "mimetype": "text/x-python",
   "name": "python",
   "nbconvert_exporter": "python",
   "pygments_lexer": "ipython3",
   "version": "3.7.3"
  }
 },
 "nbformat": 4,
 "nbformat_minor": 2
}
